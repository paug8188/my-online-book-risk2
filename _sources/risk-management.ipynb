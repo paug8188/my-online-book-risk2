{
 "cells": [
  {
   "cell_type": "markdown",
   "metadata": {},
   "source": [
    "# Risk Management\n",
    "\n",
    "Informed decision is made based on data. We do not need to have the entire data to make one decision. That would take forever to make just one decision. Therefore, a notion of sampling comes into picture as the essential part of making informed decision. \n",
    "\n",
    "![Risk Management in a Nutshell](https://www.invensislearning.com/blog/wp-content/uploads/2020/07/Common-Examples-of-Risk-Management-1068x552-1-1024x529.jpg)\n"
   ]
  },
  {
   "cell_type": "markdown",
   "metadata": {},
   "source": [
    "If we talk about sampling, we have to touch on statistics real quick. I am not an expert in Math nor statistics, but this is my understanding of statistics based on [Investopia](https://www.investopedia.com/terms/s/statistics.asp):\n",
    "\n",
    "> Statistics is a branch of applied mathematics that involves the collection, description, analysis, and inference of conclusions from quantitative data.\n",
    "\n",
    "I am going to point you to a {cite}`sampling` definition:\n",
    "> Sampling is the selection of a subset (a statistical sample) of individuals from within a statistical population to estimate characteristics of the whole population.\n",
    "\n",
    "To determine a sample size, I found that {cite}`cochran_formula` can be used to calculate an ideal size given several factors.\n",
    "\n",
    "```{math}\n",
    ":label: sampling-formula\n",
    "n_0 = \\frac{Z^2pq}{e^2}\n",
    "```\n",
    "\n",
    "> where:\n",
    "> - e is the desired level of precision (i.e. the margin of error)\n",
    "> - p is the (estimated) proportion of the population which has the attribute in question\n",
    "> - q is 1 - p\n",
    "\n",
    "Honestly, I will make my example simple for the purpose of this project."
   ]
  },
  {
   "cell_type": "markdown",
   "metadata": {},
   "source": [
    "## ![Earnest Ice Cream](https://earnestice.wpenginepowered.com/wp-content/uploads/2021/11/Home-Med-WereHiring-1.jpg)\n",
    "\n",
    "For example, I would like to find out through an online survey about Earnest's favorite ice cream flavor. This would help Earnest to determine which flavor they should produce more or less, and subsequently reducing the risk of producing something people do not like. So they have 4 locations and so many customers. There is no way I could collect everyone's opinion. My goal is to collect at least 200 inputs.\n",
    "\n",
    "Assuming I have the result and I would like to build a quick dataframe for exploration, I am going to use this code:\n",
    "\n",
    "```python\n",
    "item1 = ['Cookie and Cream', 'Regular' '20']\n",
    "\n",
    "item2 = ['Matcha', 'Vegan', '15']\n",
    "etc...\n",
    "\n",
    "column_names = ['Ice Cream Flavor', 'Dietary', 'Vote']\n",
    "\n",
    "table_1 = pd.Dataframe(data=[item1,item2, etc], columns=column_names)\n",
    "```\n",
    "\n",
    "To generate the table, I am going to use this code:\n",
    "\n",
    "```python\n",
    "print(table_1)\n",
    "```"
   ]
  },
  {
   "cell_type": "markdown",
   "metadata": {},
   "source": [
    "From the table, we can sort the result from the highest number to the lowest and determine the fractions of each flavor to answer our problem:\n",
    "> Which flavor Earnest should produce more?\n",
    "> Which flavor Earnest should produce less?\n",
    "\n",
    "The formula for the fraction is super simple. I don't need to find any reference to spell this out:\n",
    "$$\n",
    "\\frac{\\chi}{y} * 100 = P \n",
    "$$\n",
    "\n",
    "> where:\n",
    ">\n",
    "> P is a percentage\n",
    ">\n",
    "> $\\chi$ is observation 1 for example\n",
    ">\n",
    "> y is the total observation"
   ]
  },
  {
   "cell_type": "code",
   "execution_count": 1,
   "metadata": {},
   "outputs": [
    {
     "data": {
      "text/html": [
       "<div>\n",
       "<style scoped>\n",
       "    .dataframe tbody tr th:only-of-type {\n",
       "        vertical-align: middle;\n",
       "    }\n",
       "\n",
       "    .dataframe tbody tr th {\n",
       "        vertical-align: top;\n",
       "    }\n",
       "\n",
       "    .dataframe thead th {\n",
       "        text-align: right;\n",
       "    }\n",
       "</style>\n",
       "<table border=\"1\" class=\"dataframe\">\n",
       "  <thead>\n",
       "    <tr style=\"text-align: right;\">\n",
       "      <th></th>\n",
       "      <th>Flavor</th>\n",
       "      <th>Dietary</th>\n",
       "      <th>Vote</th>\n",
       "    </tr>\n",
       "  </thead>\n",
       "  <tbody>\n",
       "    <tr>\n",
       "      <th>0</th>\n",
       "      <td>Whiskey Hazelnut</td>\n",
       "      <td>Regular</td>\n",
       "      <td>5</td>\n",
       "    </tr>\n",
       "    <tr>\n",
       "      <th>1</th>\n",
       "      <td>Cookie n Cream</td>\n",
       "      <td>Regular</td>\n",
       "      <td>50</td>\n",
       "    </tr>\n",
       "    <tr>\n",
       "      <th>2</th>\n",
       "      <td>Vegan Choco</td>\n",
       "      <td>Vegan</td>\n",
       "      <td>20</td>\n",
       "    </tr>\n",
       "    <tr>\n",
       "      <th>3</th>\n",
       "      <td>Matcha</td>\n",
       "      <td>Regular</td>\n",
       "      <td>15</td>\n",
       "    </tr>\n",
       "    <tr>\n",
       "      <th>4</th>\n",
       "      <td>Vegan Maple Walnut</td>\n",
       "      <td>Vegan</td>\n",
       "      <td>10</td>\n",
       "    </tr>\n",
       "    <tr>\n",
       "      <th>5</th>\n",
       "      <td>Espresso Flake</td>\n",
       "      <td>Regular</td>\n",
       "      <td>17</td>\n",
       "    </tr>\n",
       "    <tr>\n",
       "      <th>6</th>\n",
       "      <td>Oatmeal Brown Sugar</td>\n",
       "      <td>Regular</td>\n",
       "      <td>3</td>\n",
       "    </tr>\n",
       "    <tr>\n",
       "      <th>7</th>\n",
       "      <td>Serious Chocolate</td>\n",
       "      <td>Regular</td>\n",
       "      <td>45</td>\n",
       "    </tr>\n",
       "    <tr>\n",
       "      <th>8</th>\n",
       "      <td>London Fog</td>\n",
       "      <td>Regular</td>\n",
       "      <td>24</td>\n",
       "    </tr>\n",
       "    <tr>\n",
       "      <th>9</th>\n",
       "      <td>Salted Caramel</td>\n",
       "      <td>Regular</td>\n",
       "      <td>11</td>\n",
       "    </tr>\n",
       "  </tbody>\n",
       "</table>\n",
       "</div>"
      ],
      "text/plain": [
       "                Flavor  Dietary  Vote\n",
       "0     Whiskey Hazelnut  Regular     5\n",
       "1       Cookie n Cream  Regular    50\n",
       "2          Vegan Choco    Vegan    20\n",
       "3               Matcha  Regular    15\n",
       "4   Vegan Maple Walnut    Vegan    10\n",
       "5       Espresso Flake  Regular    17\n",
       "6  Oatmeal Brown Sugar  Regular     3\n",
       "7    Serious Chocolate  Regular    45\n",
       "8           London Fog  Regular    24\n",
       "9       Salted Caramel  Regular    11"
      ]
     },
     "execution_count": 1,
     "metadata": {},
     "output_type": "execute_result"
    }
   ],
   "source": [
    "#building the dataframe\n",
    "\n",
    "import pandas as pd\n",
    "item1 = ['Whiskey Hazelnut', 'Regular', 5]\n",
    "item2 = ['Cookie n Cream', 'Regular', 50]\n",
    "item3 = ['Vegan Choco', 'Vegan', 20]\n",
    "item4 = ['Matcha', 'Regular', 15]\n",
    "item5 = ['Vegan Maple Walnut', 'Vegan', 10]\n",
    "item6 = ['Espresso Flake', 'Regular', 17]\n",
    "item7 = ['Oatmeal Brown Sugar', 'Regular', 3]\n",
    "item8 = ['Serious Chocolate', 'Regular', 45]\n",
    "item9 = ['London Fog', 'Regular', 24]\n",
    "item10 = ['Salted Caramel', 'Regular', 11]\n",
    "column_names = ['Flavor', 'Dietary', 'Vote']\n",
    "\n",
    "earnest_df = pd.DataFrame(data=[item1, item2, item3, item4, item5, item6, item7, item8, item9, item10], columns=column_names)\n",
    "earnest_df\n"
   ]
  },
  {
   "cell_type": "code",
   "execution_count": 2,
   "metadata": {},
   "outputs": [
    {
     "data": {
      "text/plain": [
       "Vote    200\n",
       "dtype: int64"
      ]
     },
     "execution_count": 2,
     "metadata": {},
     "output_type": "execute_result"
    }
   ],
   "source": [
    "# calculate the total of vote\n",
    "\n",
    "earnest_total_vote = earnest_df[['Vote']].sum()\n",
    "earnest_total_vote"
   ]
  },
  {
   "cell_type": "code",
   "execution_count": 3,
   "metadata": {},
   "outputs": [
    {
     "data": {
      "text/html": [
       "<div>\n",
       "<style scoped>\n",
       "    .dataframe tbody tr th:only-of-type {\n",
       "        vertical-align: middle;\n",
       "    }\n",
       "\n",
       "    .dataframe tbody tr th {\n",
       "        vertical-align: top;\n",
       "    }\n",
       "\n",
       "    .dataframe thead th {\n",
       "        text-align: right;\n",
       "    }\n",
       "</style>\n",
       "<table border=\"1\" class=\"dataframe\">\n",
       "  <thead>\n",
       "    <tr style=\"text-align: right;\">\n",
       "      <th></th>\n",
       "      <th>Flavor</th>\n",
       "      <th>Dietary</th>\n",
       "      <th>Vote</th>\n",
       "    </tr>\n",
       "  </thead>\n",
       "  <tbody>\n",
       "    <tr>\n",
       "      <th>1</th>\n",
       "      <td>Cookie n Cream</td>\n",
       "      <td>Regular</td>\n",
       "      <td>50</td>\n",
       "    </tr>\n",
       "    <tr>\n",
       "      <th>7</th>\n",
       "      <td>Serious Chocolate</td>\n",
       "      <td>Regular</td>\n",
       "      <td>45</td>\n",
       "    </tr>\n",
       "    <tr>\n",
       "      <th>8</th>\n",
       "      <td>London Fog</td>\n",
       "      <td>Regular</td>\n",
       "      <td>24</td>\n",
       "    </tr>\n",
       "    <tr>\n",
       "      <th>2</th>\n",
       "      <td>Vegan Choco</td>\n",
       "      <td>Vegan</td>\n",
       "      <td>20</td>\n",
       "    </tr>\n",
       "    <tr>\n",
       "      <th>5</th>\n",
       "      <td>Espresso Flake</td>\n",
       "      <td>Regular</td>\n",
       "      <td>17</td>\n",
       "    </tr>\n",
       "    <tr>\n",
       "      <th>3</th>\n",
       "      <td>Matcha</td>\n",
       "      <td>Regular</td>\n",
       "      <td>15</td>\n",
       "    </tr>\n",
       "    <tr>\n",
       "      <th>9</th>\n",
       "      <td>Salted Caramel</td>\n",
       "      <td>Regular</td>\n",
       "      <td>11</td>\n",
       "    </tr>\n",
       "    <tr>\n",
       "      <th>4</th>\n",
       "      <td>Vegan Maple Walnut</td>\n",
       "      <td>Vegan</td>\n",
       "      <td>10</td>\n",
       "    </tr>\n",
       "    <tr>\n",
       "      <th>0</th>\n",
       "      <td>Whiskey Hazelnut</td>\n",
       "      <td>Regular</td>\n",
       "      <td>5</td>\n",
       "    </tr>\n",
       "    <tr>\n",
       "      <th>6</th>\n",
       "      <td>Oatmeal Brown Sugar</td>\n",
       "      <td>Regular</td>\n",
       "      <td>3</td>\n",
       "    </tr>\n",
       "  </tbody>\n",
       "</table>\n",
       "</div>"
      ],
      "text/plain": [
       "                Flavor  Dietary  Vote\n",
       "1       Cookie n Cream  Regular    50\n",
       "7    Serious Chocolate  Regular    45\n",
       "8           London Fog  Regular    24\n",
       "2          Vegan Choco    Vegan    20\n",
       "5       Espresso Flake  Regular    17\n",
       "3               Matcha  Regular    15\n",
       "9       Salted Caramel  Regular    11\n",
       "4   Vegan Maple Walnut    Vegan    10\n",
       "0     Whiskey Hazelnut  Regular     5\n",
       "6  Oatmeal Brown Sugar  Regular     3"
      ]
     },
     "execution_count": 3,
     "metadata": {},
     "output_type": "execute_result"
    }
   ],
   "source": [
    "#to sort the dataframe from the highest vote to the lowest vote\n",
    "\n",
    "earnest_df = earnest_df.sort_values('Vote', ascending=False)\n",
    "earnest_df"
   ]
  },
  {
   "cell_type": "code",
   "execution_count": 4,
   "metadata": {},
   "outputs": [
    {
     "data": {
      "text/html": [
       "<div>\n",
       "<style scoped>\n",
       "    .dataframe tbody tr th:only-of-type {\n",
       "        vertical-align: middle;\n",
       "    }\n",
       "\n",
       "    .dataframe tbody tr th {\n",
       "        vertical-align: top;\n",
       "    }\n",
       "\n",
       "    .dataframe thead th {\n",
       "        text-align: right;\n",
       "    }\n",
       "</style>\n",
       "<table border=\"1\" class=\"dataframe\">\n",
       "  <thead>\n",
       "    <tr style=\"text-align: right;\">\n",
       "      <th></th>\n",
       "      <th>Flavor</th>\n",
       "      <th>Dietary</th>\n",
       "      <th>Vote</th>\n",
       "    </tr>\n",
       "  </thead>\n",
       "  <tbody>\n",
       "    <tr>\n",
       "      <th>1</th>\n",
       "      <td>Cookie n Cream</td>\n",
       "      <td>Regular</td>\n",
       "      <td>50</td>\n",
       "    </tr>\n",
       "    <tr>\n",
       "      <th>7</th>\n",
       "      <td>Serious Chocolate</td>\n",
       "      <td>Regular</td>\n",
       "      <td>45</td>\n",
       "    </tr>\n",
       "    <tr>\n",
       "      <th>8</th>\n",
       "      <td>London Fog</td>\n",
       "      <td>Regular</td>\n",
       "      <td>24</td>\n",
       "    </tr>\n",
       "  </tbody>\n",
       "</table>\n",
       "</div>"
      ],
      "text/plain": [
       "              Flavor  Dietary  Vote\n",
       "1     Cookie n Cream  Regular    50\n",
       "7  Serious Chocolate  Regular    45\n",
       "8         London Fog  Regular    24"
      ]
     },
     "execution_count": 4,
     "metadata": {},
     "output_type": "execute_result"
    }
   ],
   "source": [
    "#showing the top three favorite ice cream flavor\n",
    "\n",
    "earnest_df_top3 = earnest_df.head(3)\n",
    "earnest_df_top3"
   ]
  },
  {
   "cell_type": "code",
   "execution_count": 5,
   "metadata": {},
   "outputs": [
    {
     "data": {
      "text/html": [
       "<div>\n",
       "<style scoped>\n",
       "    .dataframe tbody tr th:only-of-type {\n",
       "        vertical-align: middle;\n",
       "    }\n",
       "\n",
       "    .dataframe tbody tr th {\n",
       "        vertical-align: top;\n",
       "    }\n",
       "\n",
       "    .dataframe thead th {\n",
       "        text-align: right;\n",
       "    }\n",
       "</style>\n",
       "<table border=\"1\" class=\"dataframe\">\n",
       "  <thead>\n",
       "    <tr style=\"text-align: right;\">\n",
       "      <th></th>\n",
       "      <th>Flavor</th>\n",
       "      <th>Dietary</th>\n",
       "      <th>Vote</th>\n",
       "    </tr>\n",
       "  </thead>\n",
       "  <tbody>\n",
       "    <tr>\n",
       "      <th>4</th>\n",
       "      <td>Vegan Maple Walnut</td>\n",
       "      <td>Vegan</td>\n",
       "      <td>10</td>\n",
       "    </tr>\n",
       "    <tr>\n",
       "      <th>0</th>\n",
       "      <td>Whiskey Hazelnut</td>\n",
       "      <td>Regular</td>\n",
       "      <td>5</td>\n",
       "    </tr>\n",
       "    <tr>\n",
       "      <th>6</th>\n",
       "      <td>Oatmeal Brown Sugar</td>\n",
       "      <td>Regular</td>\n",
       "      <td>3</td>\n",
       "    </tr>\n",
       "  </tbody>\n",
       "</table>\n",
       "</div>"
      ],
      "text/plain": [
       "                Flavor  Dietary  Vote\n",
       "4   Vegan Maple Walnut    Vegan    10\n",
       "0     Whiskey Hazelnut  Regular     5\n",
       "6  Oatmeal Brown Sugar  Regular     3"
      ]
     },
     "execution_count": 5,
     "metadata": {},
     "output_type": "execute_result"
    }
   ],
   "source": [
    "#showing the top three least favorite ice cream flavor\n",
    "earnest_df_bottom3 = earnest_df.loc[4:6]\n",
    "earnest_df_bottom3"
   ]
  },
  {
   "cell_type": "code",
   "execution_count": 6,
   "metadata": {
    "tags": []
   },
   "outputs": [
    {
     "name": "stdout",
     "output_type": "stream",
     "text": [
      "Requirement already satisfied: altair in c:\\users\\paugusta\\miniconda3\\lib\\site-packages (4.2.0)\n",
      "Requirement already satisfied: vega_datasets in c:\\users\\paugusta\\miniconda3\\lib\\site-packages (0.9.0)\n",
      "Requirement already satisfied: numpy in c:\\users\\paugusta\\miniconda3\\lib\\site-packages (from altair) (1.23.2)\n",
      "Requirement already satisfied: toolz in c:\\users\\paugusta\\miniconda3\\lib\\site-packages (from altair) (0.12.0)\n",
      "Requirement already satisfied: entrypoints in c:\\users\\paugusta\\miniconda3\\lib\\site-packages (from altair) (0.4)\n",
      "Requirement already satisfied: jsonschema>=3.0 in c:\\users\\paugusta\\miniconda3\\lib\\site-packages (from altair) (3.2.0)\n",
      "Requirement already satisfied: pandas>=0.18 in c:\\users\\paugusta\\miniconda3\\lib\\site-packages (from altair) (1.4.3)\n",
      "Requirement already satisfied: jinja2 in c:\\users\\paugusta\\miniconda3\\lib\\site-packages (from altair) (3.1.2)\n",
      "Requirement already satisfied: attrs>=17.4.0 in c:\\users\\paugusta\\miniconda3\\lib\\site-packages (from jsonschema>=3.0->altair) (21.4.0)\n",
      "Requirement already satisfied: setuptools in c:\\users\\paugusta\\miniconda3\\lib\\site-packages (from jsonschema>=3.0->altair) (61.2.0)\n",
      "Requirement already satisfied: six>=1.11.0 in c:\\users\\paugusta\\miniconda3\\lib\\site-packages (from jsonschema>=3.0->altair) (1.16.0)\n",
      "Requirement already satisfied: pyrsistent>=0.14.0 in c:\\users\\paugusta\\miniconda3\\lib\\site-packages (from jsonschema>=3.0->altair) (0.18.1)\n",
      "Requirement already satisfied: python-dateutil>=2.8.1 in c:\\users\\paugusta\\miniconda3\\lib\\site-packages (from pandas>=0.18->altair) (2.8.2)\n",
      "Requirement already satisfied: pytz>=2020.1 in c:\\users\\paugusta\\miniconda3\\lib\\site-packages (from pandas>=0.18->altair) (2022.4)\n",
      "Requirement already satisfied: MarkupSafe>=2.0 in c:\\users\\paugusta\\miniconda3\\lib\\site-packages (from jinja2->altair) (2.1.1)\n"
     ]
    }
   ],
   "source": [
    "!pip install altair vega_datasets"
   ]
  },
  {
   "cell_type": "code",
   "execution_count": 7,
   "metadata": {
    "tags": [
     "hide-input"
    ]
   },
   "outputs": [
    {
     "data": {
      "text/html": [
       "\n",
       "<div id=\"altair-viz-80c51d770cbe450884b8727300216f04\"></div>\n",
       "<script type=\"text/javascript\">\n",
       "  var VEGA_DEBUG = (typeof VEGA_DEBUG == \"undefined\") ? {} : VEGA_DEBUG;\n",
       "  (function(spec, embedOpt){\n",
       "    let outputDiv = document.currentScript.previousElementSibling;\n",
       "    if (outputDiv.id !== \"altair-viz-80c51d770cbe450884b8727300216f04\") {\n",
       "      outputDiv = document.getElementById(\"altair-viz-80c51d770cbe450884b8727300216f04\");\n",
       "    }\n",
       "    const paths = {\n",
       "      \"vega\": \"https://cdn.jsdelivr.net/npm//vega@5?noext\",\n",
       "      \"vega-lib\": \"https://cdn.jsdelivr.net/npm//vega-lib?noext\",\n",
       "      \"vega-lite\": \"https://cdn.jsdelivr.net/npm//vega-lite@4.17.0?noext\",\n",
       "      \"vega-embed\": \"https://cdn.jsdelivr.net/npm//vega-embed@6?noext\",\n",
       "    };\n",
       "\n",
       "    function maybeLoadScript(lib, version) {\n",
       "      var key = `${lib.replace(\"-\", \"\")}_version`;\n",
       "      return (VEGA_DEBUG[key] == version) ?\n",
       "        Promise.resolve(paths[lib]) :\n",
       "        new Promise(function(resolve, reject) {\n",
       "          var s = document.createElement('script');\n",
       "          document.getElementsByTagName(\"head\")[0].appendChild(s);\n",
       "          s.async = true;\n",
       "          s.onload = () => {\n",
       "            VEGA_DEBUG[key] = version;\n",
       "            return resolve(paths[lib]);\n",
       "          };\n",
       "          s.onerror = () => reject(`Error loading script: ${paths[lib]}`);\n",
       "          s.src = paths[lib];\n",
       "        });\n",
       "    }\n",
       "\n",
       "    function showError(err) {\n",
       "      outputDiv.innerHTML = `<div class=\"error\" style=\"color:red;\">${err}</div>`;\n",
       "      throw err;\n",
       "    }\n",
       "\n",
       "    function displayChart(vegaEmbed) {\n",
       "      vegaEmbed(outputDiv, spec, embedOpt)\n",
       "        .catch(err => showError(`Javascript Error: ${err.message}<br>This usually means there's a typo in your chart specification. See the javascript console for the full traceback.`));\n",
       "    }\n",
       "\n",
       "    if(typeof define === \"function\" && define.amd) {\n",
       "      requirejs.config({paths});\n",
       "      require([\"vega-embed\"], displayChart, err => showError(`Error loading script: ${err.message}`));\n",
       "    } else {\n",
       "      maybeLoadScript(\"vega\", \"5\")\n",
       "        .then(() => maybeLoadScript(\"vega-lite\", \"4.17.0\"))\n",
       "        .then(() => maybeLoadScript(\"vega-embed\", \"6\"))\n",
       "        .catch(showError)\n",
       "        .then(() => displayChart(vegaEmbed));\n",
       "    }\n",
       "  })({\"config\": {\"view\": {\"continuousWidth\": 400, \"continuousHeight\": 300}}, \"data\": {\"name\": \"data-2ce83f868f29ef681021a0a3fe61853d\"}, \"mark\": \"bar\", \"encoding\": {\"x\": {\"field\": \"Flavor\", \"type\": \"nominal\"}, \"y\": {\"field\": \"Vote\", \"type\": \"quantitative\"}}, \"$schema\": \"https://vega.github.io/schema/vega-lite/v4.17.0.json\", \"datasets\": {\"data-2ce83f868f29ef681021a0a3fe61853d\": [{\"Flavor\": \"Cookie n Cream\", \"Dietary\": \"Regular\", \"Vote\": 50}, {\"Flavor\": \"Serious Chocolate\", \"Dietary\": \"Regular\", \"Vote\": 45}, {\"Flavor\": \"London Fog\", \"Dietary\": \"Regular\", \"Vote\": 24}, {\"Flavor\": \"Vegan Choco\", \"Dietary\": \"Vegan\", \"Vote\": 20}, {\"Flavor\": \"Espresso Flake\", \"Dietary\": \"Regular\", \"Vote\": 17}, {\"Flavor\": \"Matcha\", \"Dietary\": \"Regular\", \"Vote\": 15}, {\"Flavor\": \"Salted Caramel\", \"Dietary\": \"Regular\", \"Vote\": 11}, {\"Flavor\": \"Vegan Maple Walnut\", \"Dietary\": \"Vegan\", \"Vote\": 10}, {\"Flavor\": \"Whiskey Hazelnut\", \"Dietary\": \"Regular\", \"Vote\": 5}, {\"Flavor\": \"Oatmeal Brown Sugar\", \"Dietary\": \"Regular\", \"Vote\": 3}]}}, {\"mode\": \"vega-lite\"});\n",
       "</script>"
      ],
      "text/plain": [
       "alt.Chart(...)"
      ]
     },
     "execution_count": 7,
     "metadata": {},
     "output_type": "execute_result"
    }
   ],
   "source": [
    "import altair as alt\n",
    "earnest_chart = alt.Chart(earnest_df).mark_bar().encode(\n",
    "    x='Flavor',\n",
    "    y='Vote'\n",
    ")\n",
    "earnest_chart"
   ]
  },
  {
   "cell_type": "markdown",
   "metadata": {},
   "source": [
    "This is the end of the example for data sampling exploration with Earnest scenario.\n",
    "The conclusion is that Earnest should consider to produce more of Cookie and Cream, Serious Chocolate, and London Fog, and maybe they have to consider produce less of the Oatmeal Brown Sugar, Whiskey Hazelnut, and Vegan Maple Walnut."
   ]
  },
  {
   "cell_type": "code",
   "execution_count": null,
   "metadata": {},
   "outputs": [],
   "source": []
  }
 ],
 "metadata": {
  "kernelspec": {
   "display_name": "Python 3 (ipykernel)",
   "language": "python",
   "name": "python3"
  },
  "language_info": {
   "codemirror_mode": {
    "name": "ipython",
    "version": 3
   },
   "file_extension": ".py",
   "mimetype": "text/x-python",
   "name": "python",
   "nbconvert_exporter": "python",
   "pygments_lexer": "ipython3",
   "version": "3.9.12"
  },
  "widgets": {
   "application/vnd.jupyter.widget-state+json": {
    "state": {},
    "version_major": 2,
    "version_minor": 0
   }
  }
 },
 "nbformat": 4,
 "nbformat_minor": 4
}
